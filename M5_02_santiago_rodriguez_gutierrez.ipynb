{
 "cells": [
  {
   "cell_type": "markdown",
   "metadata": {},
   "source": [
    "# Ejercicios Modulo 5. Excel y CSV (Enunciado)\n",
    "\n",
    "Consideraciones a tener en cuenta: \n",
    "\n",
    "* Guardar este documento con el siguiente formato para su entrega: __M5_02_nombre_apellido1_apellido2__\n",
    "* Realizar los ejercicios con las herramientas vistas en las sesiones. \n",
    "* Comentar el código\n",
    "* Utilizar nombres de variables apropiados, si vais a guardar una nota, llamar a esa variable nota, no n o x\n",
    "\n",
    "__Recomendación:__ Haz una copia de los ficheros antes de empezar a modificarlos para siempre poder recuperar una versión original de los mismos."
   ]
  },
  {
   "cell_type": "markdown",
   "metadata": {},
   "source": [
    "## EXCEL"
   ]
  },
  {
   "cell_type": "markdown",
   "metadata": {},
   "source": [
    "**1) Ejercicio de manejo de Excel en base al fichero 02_Excel_data.xlsx:**\n",
    "* Abre el fichero Excel\n",
    "* Lista las hojas que hay\n",
    "* Crea una nueva hoja que se llame olimpiadas entre ventas y otros\n",
    "* Vuelve a listar las hojas que hay\n",
    "* Guarda los cambios y comprueba en el excel si se han efectuado"
   ]
  },
  {
   "cell_type": "code",
   "execution_count": null,
   "metadata": {},
   "outputs": [],
   "source": [
    "import openpyxl\n",
    "\n",
    "wb = openpyxl.Workbook()\n",
    "\n",
    "# Seleccionar la hoja activa (por defecto, es la primera hoja)\n",
    "hoja_activa = wb.active\n",
    "\n",
    "# Añadir datos de ejemplo a la hoja de cálculo\n",
    "hoja_activa['A1'] = 'Ejemplo'\n",
    "hoja_activa['B1'] = 'Datos'\n",
    "\n",
    "# Guardar el archivo\n",
    "wb.save('ejemplo_excel.xlsx')\n",
    "\n",
    "print(\"Documento de Excel creado exitosamente.\")\n",
    "# creando hojas\n",
    "hoja_activa = wb.create_chartsheet(\"ventas\") \n",
    "hoja_uno = wb[\"ventas\"]\n",
    "hoja_activa = wb.create_chartsheet(\"Olimpiadas\") \n",
    "hoja_dos = wb[\"Olimpiadas\"]\n",
    "hoja_activa = wb.create_chartsheet(\"Otros\")\n",
    "hoja_tres = wb[\"Otros\"] \n",
    "wb.save()  \n",
    "\n",
    "# mostramos las hojas de excel\n",
    "print(\"Nombre de hojas: \")\n",
    "print(wb.sheetnames)\n",
    "\n",
    "\n",
    "print(\"\\nNombre de hojas:\")\n",
    "for sheet in wb:\n",
    "  print(\"-\",sheet.title)\n",
    "\n",
    "# Guardar el archivo\n",
    "wb.save('ejemplo_excel.xlsx')\n",
    "\n",
    "\n"
   ]
  },
  {
   "cell_type": "markdown",
   "metadata": {},
   "source": [
    "**2) Continuemos con Excel**\n",
    "* Crea una lista que contenga los siguientes datos olímpicos (nombre del país y medallas de oro, plata y bronce):\n",
    "```\n",
    "USA, 46, 12, 5\n",
    "China, 38, 20, 7\n",
    "UK, 29, 7, 7\n",
    "Russia, 22, 10, 9\n",
    "South Korea, 13, 3, 2\n",
    "Germany, 11, 7, 4\n",
    "```\n",
    "* Añadir esa lista a la hoja de olimpiadas que creamos en el ejercicio anterior\n",
    "* Listar por filas y columnas el contenido\n",
    "* Mover todo el rango de datos una fila hacia abajo (buscar en la documentación como mover rangos)\n",
    "* Añadir unas cabeceras en la primera línea (que acaba de quedar libre) que sean \"Pais\", \"Oros\", \"Platas\", \"Bronces\"\n",
    "* Guarda los cambios y comprueba en el excel si se han efectuado"
   ]
  },
  {
   "cell_type": "code",
   "execution_count": null,
   "metadata": {},
   "outputs": [],
   "source": [
    "import openpyxl\n",
    "\n",
    "# Abre el libro de Excel existente o crea uno nuevo\n",
    "workbook = openpyxl.load_workbook('tu_archivo.xlsx')  # Reemplaza 'tu_archivo.xlsx' con el nombre de tu archivo\n",
    "sheet = workbook['olimpiadas']\n",
    "\n",
    "# Crea una lista con los datos olímpicos\n",
    "datos_olimpicos = [\n",
    "    [\"USA\", 46, 12, 5],\n",
    "    [\"China\", 38, 20, 7],\n",
    "    [\"UK\", 29, 7, 7],\n",
    "    [\"Russia\", 22, 10, 9],\n",
    "    [\"South Korea\", 13, 3, 2],\n",
    "    [\"Germany\", 11, 7, 4]\n",
    "]\n",
    "\n",
    "# Añade la lista a la hoja de olimpiadas\n",
    "for fila_datos in datos_olimpicos:\n",
    "    sheet.append(fila_datos)\n",
    "\n",
    "# Lista por filas y columnas el contenido\n",
    "for fila in sheet.iter_rows(min_row=1, max_col=4, values_only=True):\n",
    "    print(fila)\n",
    "\n",
    "for columna in sheet.iter_cols(min_row=1, max_row=len(datos_olimpicos) + 1, values_only=True):\n",
    "    print(columna)\n",
    "\n",
    "# Mueve todo el rango de datos una fila hacia abajo\n",
    "sheet.move_range(\"A1:D7\", rows=1, cols=0)\n",
    "\n",
    "# Añade las cabeceras en la primera línea\n",
    "cabeceras = [\"Pais\", \"Oros\", \"Platas\", \"Bronces\"]\n",
    "for col_num, cabecera in enumerate(cabeceras, start=1):\n",
    "    sheet.cell(row=1, column=col_num, value=cabecera)\n",
    "\n",
    "# Guarda los cambios\n",
    "workbook.save('ejemplo_excel.xlsx')  # Reemplaza 'tu_archivo_modificado.xlsx' con el nombre deseado\n",
    "\n"
   ]
  },
  {
   "cell_type": "markdown",
   "metadata": {},
   "source": [
    "**3) Continuemos con Excel, centrandonos en la parte de la librería openpyxl.styles (la cual proporciona estilo a nuestras hojas de Excel)**\n",
    "* Poner las cabeceras que acabamos de añadir en negrita (bold)\n",
    "* Guarda los cambios y comprueba en el excel si se han efectuado\n",
    "\n",
    "Pista: Aunque hay varias formas de hacerlo, lo más común es definir el estilo que deseas (negrita) y luego aplicárselo a todas las celdas que quieras (iterar por la primera fila de nuestra hoja)\n",
    "\n",
    "Doc: https://openpyxl.readthedocs.io/en/stable/styles.html"
   ]
  },
  {
   "cell_type": "code",
   "execution_count": null,
   "metadata": {},
   "outputs": [],
   "source": [
    "import openpyxl\n",
    "from openpyxl.styles import Font\n",
    "\n",
    "# Abre el libro de Excel existente o crea uno nuevo\n",
    "workbook = openpyxl.load_workbook('ejemplo_excel.xlsx')  # Reemplaza 'tu_archivo_modificado.xlsx' con el nombre de tu archivo\n",
    "sheet = workbook['olimpiadas']\n",
    "\n",
    "# Definir el estilo en negrita\n",
    "negrita = Font(bold=True)\n",
    "\n",
    "# Aplicar el estilo a todas las celdas de la primera fila\n",
    "for cell in sheet[1]:\n",
    "    cell.font = negrita\n",
    "\n",
    "# Guarda los cambios\n",
    "workbook.save('ejemplo_excel.xlsx')  # Reemplaza 'tu_archivo_modificado_estilo.xlsx' con el nombre deseado\n"
   ]
  },
  {
   "cell_type": "markdown",
   "metadata": {},
   "source": [
    "**4) Continuamos con Excel. Crea una nueva columna que sea el sumatorio de todas las medallas conseguidas por cada uno de los paises**"
   ]
  },
  {
   "cell_type": "code",
   "execution_count": null,
   "metadata": {},
   "outputs": [],
   "source": [
    "import openpyxl\n",
    "\n",
    "# Abre el libro de Excel existente o crea uno nuevo\n",
    "workbook = openpyxl.load_workbook('tu_archivo_modificado_estilo.xlsx')  # Reemplaza 'tu_archivo_modificado_estilo.xlsx' con el nombre de tu archivo\n",
    "sheet = workbook['olimpiadas']\n",
    "\n",
    "# Añade una nueva columna al final para el sumatorio de medallas\n",
    "sheet.cell(row=1, column=5, value='Total Medallas')  # Agrega el encabezado\n",
    "\n",
    "# Calcula y suma las medallas por cada país\n",
    "for row in range(2, sheet.max_row + 1):\n",
    "    total_medallas = sum(sheet.cell(row=row, column=col).value for col in range(2, 5))\n",
    "    sheet.cell(row=row, column=5, value=total_medallas)\n",
    "\n",
    "# Guarda los cambios\n",
    "workbook.save('ejemplo_excel.xlsx')  # Reemplaza 'tu_archivo_con_sumatorio.xlsx' con el nombre deseado\n"
   ]
  },
  {
   "attachments": {
    "02_Excel_data.png": {
     "image/png": "[encoded data removed]"
    }
   },
   "cell_type": "markdown",
   "metadata": {},
   "source": [
    "**5) Continuamos con Excel. Crear un gráfico de barras (openpyxl.chart.BarChart()) lo más parecido al que se muestra en la imagen:**\n",
    "\n",
    "![02_Excel_data.png](attachment:02_Excel_data.png)"
   ]
  },
  {
   "cell_type": "code",
   "execution_count": null,
   "metadata": {},
   "outputs": [],
   "source": [
    "import openpyxl\n",
    "from openpyxl.chart import BarChart, Reference\n",
    "\n",
    "# Abre el libro de Excel existente o crea uno nuevo\n",
    "workbook = openpyxl.load_workbook('tu_archivo_con_sumatorio.xlsx')  # Reemplaza 'tu_archivo_con_sumatorio.xlsx' con el nombre de tu archivo\n",
    "sheet = workbook['olimpiadas']\n",
    "\n",
    "# Crear un objeto de gráfico de barras\n",
    "chart = BarChart()\n",
    "chart.title = \"Medallas por País\"\n",
    "chart.x_axis.title = \"Países\"\n",
    "chart.y_axis.title = \"Total Medallas\"\n",
    "\n",
    "# Seleccionar los datos para el gráfico\n",
    "data = Reference(sheet, min_col=1, min_row=2, max_col=5, max_row=sheet.max_row)\n",
    "categories = Reference(sheet, min_col=1, min_row=2, max_row=sheet.max_row)\n",
    "\n",
    "# Agregar datos al gráfico\n",
    "chart.add_data(data, titles_from_data=True)\n",
    "chart.set_categories(categories)\n",
    "\n",
    "# Ajustar el tamaño del gráfico\n",
    "chart.width = 15\n",
    "chart.height = 10\n",
    "\n",
    "# Agregar el gráfico a la hoja de cálculo\n",
    "sheet.add_chart(chart, \"G2\")\n",
    "\n",
    "# Guardar los cambios\n",
    "workbook.save('ejemplo_excel.xlsx')  \n",
    "\n"
   ]
  },
  {
   "cell_type": "markdown",
   "metadata": {},
   "source": [
    "## CSV"
   ]
  },
  {
   "cell_type": "markdown",
   "metadata": {},
   "source": [
    "**Vamos a realizar un ejercicio práctico de minería de datos, donde limpiaremos y filtraremos información con un csv que contiene datos de vehículos**\n",
    "\n",
    "Trabajaremos con el fichero **02_CSV_data.csv**"
   ]
  },
  {
   "cell_type": "markdown",
   "metadata": {},
   "source": [
    "**6) Observa los datos del csv y realiza las siguientes tareas:**\n",
    "\n",
    "* Tenemos 9 columnas, las 8 primeras contienen datos numéricos con los cuales podemos trabajar, crea una lista para cada una de estas columnas (mpg, cylinders, etc.). No es necesario crear lista para name\n",
    "* Recorre los datos del csv adecuadamente y almacena los datos de cada columna en cada una de las listas que has creado anteriormente.\n",
    "* Comprobar que se haya guardado en las listas la información correspondiente (con prints)"
   ]
  },
  {
   "cell_type": "code",
   "execution_count": null,
   "metadata": {},
   "outputs": [],
   "source": [
    "import csv\n",
    "\n",
    "# Listas para almacenar los datos\n",
    "mpg = []\n",
    "cylinders = []\n",
    "displacement = []\n",
    "horsepower = []\n",
    "weight = []\n",
    "acceleration = []\n",
    "model_year = []\n",
    "origin = []\n",
    "\n",
    "# Abrir el archivo CSV y leer los datos\n",
    "with open('nombre_del_archivo.csv') as csv_file:\n",
    "    csv_reader = csv.reader(csv_file)\n",
    "    next(csv_reader)  # Saltar la primera fila que contiene los encabezados\n",
    "    for row in csv_reader:\n",
    "        # Almacenar los datos en las listas correspondientes\n",
    "        mpg.append(float(row[0]))\n",
    "        cylinders.append(int(row[1]))\n",
    "        displacement.append(float(row[2]))\n",
    "        horsepower.append(float(row[3]))\n",
    "        weight.append(float(row[4]))\n",
    "        acceleration.append(float(row[5]))\n",
    "        model_year.append(int(row[6]))\n",
    "        origin.append(int(row[7]))\n",
    "\n",
    "# Comprobar que se haya guardado la información correctamente en las listas\n",
    "print(\"MPG:\", mpg)\n",
    "print(\"Cylinders:\", cylinders)\n",
    "print(\"Displacement:\", displacement)\n",
    "print(\"Horsepower:\", horsepower)\n",
    "print(\"Weight:\", weight)\n",
    "print(\"Acceleration:\", acceleration)\n",
    "print(\"Model Year:\", model_year)\n",
    "print(\"Origin:\", origin)\n"
   ]
  },
  {
   "cell_type": "markdown",
   "metadata": {},
   "source": [
    "**7) Vamos a trabajar con los números de nuestras listas por lo que nos sobra el primer elemento de cada lista, el cual contiene el nombre de cada una de las columnas.**\n",
    "\n",
    "* Elimina el primer elemento de cada una de las listas\n",
    "* Observa que los datos de nuestras listas son strings, conviértelos a float. Pista: list y map te pueden ayudar.\n",
    "* Comprobar que se haya eliminado el primer elemento y que los datos son numéricos (con prints)"
   ]
  },
  {
   "cell_type": "code",
   "execution_count": null,
   "metadata": {},
   "outputs": [],
   "source": [
    "# Eliminar el primer elemento de cada lista\n",
    "del mpg[0]\n",
    "del cylinders[0]\n",
    "del displacement[0]\n",
    "del horsepower[0]\n",
    "del weight[0]\n",
    "del acceleration[0]\n",
    "del model_year[0]\n",
    "del origin[0]\n",
    "\n",
    "# Convertir los datos de las listas a números flotantes\n",
    "mpg = list(map(float, mpg))\n",
    "cylinders = list(map(float, cylinders))\n",
    "displacement = list(map(float, displacement))\n",
    "horsepower = list(map(float, horsepower))\n",
    "weight = list(map(float, weight))\n",
    "acceleration = list(map(float, acceleration))\n",
    "model_year = list(map(float, model_year))\n",
    "origin = list(map(float, origin))\n",
    "\n",
    "# Comprobar que se haya eliminado el primer elemento y que los datos son numéricos\n",
    "print(\"MPG:\", mpg)\n",
    "print(\"Cylinders:\", cylinders)\n",
    "print(\"Displacement:\", displacement)\n",
    "print(\"Horsepower:\", horsepower)\n",
    "print(\"Weight:\", weight)\n",
    "print(\"Acceleration:\", acceleration)\n",
    "print(\"Model Year:\", model_year)\n",
    "print(\"Origin:\", origin)\n"
   ]
  },
  {
   "cell_type": "markdown",
   "metadata": {},
   "source": [
    "**8) Para terminar vamos a mostrar algunos resultados. Para ello utilizaremos la librería statistics.**\n",
    "\n",
    "* Muestra para cada una de las listas, cuantas observaciones tiene (cuántos datos tiene).\n",
    "* Mostrar el mínimo y el máximo de cada lista\n",
    "* Mostrar la media, mediana y desviación estándar de cada lista (utilizando statistics)"
   ]
  },
  {
   "cell_type": "code",
   "execution_count": null,
   "metadata": {},
   "outputs": [],
   "source": [
    "import statistics\n",
    "\n",
    "# Mostrar el número de observaciones para cada lista\n",
    "print(\"Número de observaciones:\")\n",
    "print(\"MPG:\", len(mpg))\n",
    "print(\"Cylinders:\", len(cylinders))\n",
    "print(\"Displacement:\", len(displacement))\n",
    "print(\"Horsepower:\", len(horsepower))\n",
    "print(\"Weight:\", len(weight))\n",
    "print(\"Acceleration:\", len(acceleration))\n",
    "print(\"Model Year:\", len(model_year))\n",
    "print(\"Origin:\", len(origin))\n",
    "\n",
    "# Mostrar el mínimo y el máximo de cada lista\n",
    "print(\"\\nMínimo y máximo:\")\n",
    "print(\"MPG - Mínimo:\", min(mpg), \"Máximo:\", max(mpg))\n",
    "print(\"Cylinders - Mínimo:\", min(cylinders), \"Máximo:\", max(cylinders))\n",
    "print(\"Displacement - Mínimo:\", min(displacement), \"Máximo:\", max(displacement))\n",
    "print(\"Horsepower - Mínimo:\", min(horsepower), \"Máximo:\", max(horsepower))\n",
    "print(\"Weight - Mínimo:\", min(weight), \"Máximo:\", max(weight))\n",
    "print(\"Acceleration - Mínimo:\", min(acceleration), \"Máximo:\", max(acceleration))\n",
    "print(\"Model Year - Mínimo:\", min(model_year), \"Máximo:\", max(model_year))\n",
    "print(\"Origin - Mínimo:\", min(origin), \"Máximo:\", max(origin))\n",
    "\n",
    "# Mostrar la media, mediana y desviación estándar de cada lista\n",
    "print(\"\\nMedia, mediana y desviación estándar:\")\n",
    "print(\"MPG - Media:\", statistics.mean(mpg), \"Mediana:\", statistics.median(mpg), \"Desviación estándar:\", statistics.stdev(mpg))\n",
    "print(\"Cylinders - Media:\", statistics.mean(cylinders), \"Mediana:\", statistics.median(cylinders), \"Desviación estándar:\", statistics.stdev(cylinders))\n",
    "print(\"Displacement - Media:\", statistics.mean(displacement), \"Mediana:\", statistics.median(displacement), \"Desviación estándar:\", statistics.stdev(displacement))\n",
    "print(\"Horsepower - Media:\", statistics.mean(horsepower), \"Mediana:\", statistics.median(horsepower), \"Desviación estándar:\", statistics.stdev(horsepower))\n",
    "print(\"Weight - Media:\", statistics.mean(weight), \"Mediana:\", statistics.median(weight), \"Desviación estándar:\", statistics.stdev(weight))\n",
    "print(\"Acceleration - Media:\", statistics.mean(acceleration), \"Mediana:\", statistics.median(acceleration), \"Desviación estándar:\", statistics.stdev(acceleration))\n",
    "print(\"Model Year - Media:\", statistics.mean(model_year), \"Mediana:\", statistics.median(model_year), \"Desviación estándar:\", statistics.stdev(model_year))\n",
    "print(\"Origin - Media:\", statistics.mean(origin), \"Mediana:\", statistics.median(origin), \"Desviación estándar:\", statistics.stdev(origin))\n"
   ]
  }
 ],
 "metadata": {
  "anaconda-cloud": {},
  "kernelspec": {
   "display_name": "Python 3",
   "language": "python",
   "name": "python3"
  },
  "language_info": {
   "codemirror_mode": {
    "name": "ipython",
    "version": 3
   },
   "file_extension": ".py",
   "mimetype": "text/x-python",
   "name": "python",
   "nbconvert_exporter": "python",
   "pygments_lexer": "ipython3",
   "version": "3.8.3"
  }
 },
 "nbformat": 4,
 "nbformat_minor": 1
}
