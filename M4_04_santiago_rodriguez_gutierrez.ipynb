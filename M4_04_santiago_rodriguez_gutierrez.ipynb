{
 "cells": [
  {
   "cell_type": "markdown",
   "metadata": {},
   "source": [
    "# Ejercicios Modulo 4. Unidad 4. Datos temporales (Soluciones)\n",
    "\n",
    "Consideraciones a tener en cuenta: \n",
    "\n",
    "* Guardar este documento con el siguiente formato para su entrega: __M4_04_nombre_apellido1_apellido2__\n",
    "* Realizar los ejercicios con las herramientas vistas en las sesiones. \n",
    "* Comentar el código\n",
    "* Utilizar nombres de variables apropiados, si vais a guardar una nota, llamar a esa variable nota, no n o x"
   ]
  },
  {
   "cell_type": "markdown",
   "metadata": {},
   "source": [
    "**1) Dadas las dos siguientes fechas, que corresponden a las fechas de nacimiento de dos hermanos (en la zona horaria de Europe/Madrid), indica cual es la diferencia entre ellos en días, horas, minutos y segundos**"
   ]
  },
  {
   "cell_type": "code",
   "execution_count": 1,
   "metadata": {},
   "outputs": [
    {
     "name": "stdout",
     "output_type": "stream",
     "text": [
      "Diferencia en días: 2440 días\n",
      "Diferencia en horas: 0 horas\n",
      "Diferencia en minutos: 35 minutos\n",
      "Diferencia en segundos: 0 segundos\n"
     ]
    }
   ],
   "source": [
    "from datetime import datetime\n",
    "import pytz\n",
    "\n",
    "# Definir la zona horaria de Europe/Madrid\n",
    "tz = pytz.timezone('Europe/Madrid')\n",
    "\n",
    "# Fechas de nacimiento de los hermanos\n",
    "hijo1 = datetime(1985, 10, 20, 17, 55, tzinfo=tz)\n",
    "hijo2 = datetime(1992, 6, 25, 18, 30, tzinfo=tz)\n",
    "\n",
    "# Calcular la diferencia de tiempo\n",
    "diferencia = hijo2 - hijo1\n",
    "\n",
    "# Obtener los componentes de la diferencia\n",
    "dias = diferencia.days\n",
    "segundos_totales = diferencia.seconds\n",
    "horas, segundos = divmod(segundos_totales, 3600)\n",
    "minutos, segundos = divmod(segundos, 60)\n",
    "\n",
    "# Imprimir la diferencia\n",
    "print(f\"Diferencia en días: {dias} días\")\n",
    "print(f\"Diferencia en horas: {horas} horas\")\n",
    "print(f\"Diferencia en minutos: {minutos} minutos\")\n",
    "print(f\"Diferencia en segundos: {segundos} segundos\")\n"
   ]
  },
  {
   "cell_type": "markdown",
   "metadata": {},
   "source": [
    "**2) Crea una función que se llame formato_fecha() que reciba por parámetro una fecha del tipo datetime y nos devuelva el siguiente formato: \"20 de Abril del 2020\".**\n",
    "\n",
    "**En muchas ocasiones nuestros sistemas estan configurados de forma predeterminada en inglés, y no se puede cambiar la localidad a español. Por lo tanto, tenemos que aprender a seleccionar y mostrar los meses en español a pesar de que nuestro sistema se encuentre en inglés o en otro idioma. Crear una tupla para almacenar el listado de meses en español para poder seleccionar el nombre del mes adecuado en función a una fecha que le proporcionemos al programa. Queda prohibído utilizar metodos como locale, setlocale o strftime.**\n",
    "\n",
    "**Prueba la función enviándole una fecha predefinida por ti y la fecha actual (now)**"
   ]
  },
  {
   "cell_type": "code",
   "execution_count": 2,
   "metadata": {},
   "outputs": [
    {
     "name": "stdout",
     "output_type": "stream",
     "text": [
      "Fecha predefinida formateada: 20 de Abril del 2020\n",
      "Fecha actual formateada: 4 de Noviembre del 2023\n"
     ]
    }
   ],
   "source": [
    "from datetime import datetime\n",
    "import pytz\n",
    "\n",
    "# Define la tupla de meses en español\n",
    "meses_en_espanol = (\n",
    "    \"Enero\", \"Febrero\", \"Marzo\", \"Abril\", \"Mayo\", \"Junio\",\n",
    "    \"Julio\", \"Agosto\", \"Septiembre\", \"Octubre\", \"Noviembre\", \"Diciembre\"\n",
    ")\n",
    "\n",
    "def formato_fecha(fecha):\n",
    "    # Extraer el día, mes y año de la fecha\n",
    "    dia = fecha.day\n",
    "    mes = fecha.month\n",
    "    anio = fecha.year\n",
    "\n",
    "    # Obtener el nombre del mes en español\n",
    "    mes_en_espanol = meses_en_espanol[mes - 1]\n",
    "\n",
    "    # Formatear la fecha en el formato deseado\n",
    "    fecha_formateada = f\"{dia} de {mes_en_espanol} del {anio}\"\n",
    "\n",
    "    return fecha_formateada\n",
    "\n",
    "# Prueba la función con una fecha predefinida y la fecha actual\n",
    "fecha_predefinida = datetime(2020, 4, 20, tzinfo=pytz.timezone('Europe/Madrid'))\n",
    "fecha_actual = datetime.now(pytz.timezone('Europe/Madrid'))\n",
    "\n",
    "fecha_formateada_predefinida = formato_fecha(fecha_predefinida)\n",
    "fecha_formateada_actual = formato_fecha(fecha_actual)\n",
    "\n",
    "print(\"Fecha predefinida formateada:\", fecha_formateada_predefinida)\n",
    "print(\"Fecha actual formateada:\", fecha_formateada_actual)\n",
    "\n",
    "\n",
    "    "
   ]
  },
  {
   "cell_type": "markdown",
   "metadata": {},
   "source": [
    "**3) Utilizando strftime y formatea la fecha actual para que salga con el siguiente formato (sin los puntos):**\n",
    "* Día: 20\n",
    "* Mes: 04\n",
    "* Año: 2020\n",
    "* Hora: 16\n",
    "* Minutos: 19\n",
    "* Segundos (y milisegundos): 08.879057"
   ]
  },
  {
   "cell_type": "code",
   "execution_count": null,
   "metadata": {
    "scrolled": true
   },
   "outputs": [],
   "source": [
    "from datetime import datetime\n",
    "import pytz\n",
    "\n",
    "# Obtener la fecha y hora actual en la zona horaria de Europe/Madrid\n",
    "fecha_actual = datetime.now(pytz.timezone('Europe/Madrid'))\n",
    "\n",
    "# Formatear la fecha actual en el formato deseado\n",
    "formato_personalizado = \"Día: %d\\nMes: %m\\nAño: %Y\\nHora: %H\\nMinutos: %M\\nSegundos (y milisegundos): %S.%f\"\n",
    "\n",
    "fecha_formateada = fecha_actual.strftime(formato_personalizado)\n",
    "\n",
    "print(fecha_formateada)\n",
    "# Completa el ejercicio aquí"
   ]
  }
 ],
 "metadata": {
  "anaconda-cloud": {},
  "kernelspec": {
   "display_name": "Python 3",
   "language": "python",
   "name": "python3"
  },
  "language_info": {
   "codemirror_mode": {
    "name": "ipython",
    "version": 3
   },
   "file_extension": ".py",
   "mimetype": "text/x-python",
   "name": "python",
   "nbconvert_exporter": "python",
   "pygments_lexer": "ipython3",
   "version": "3.10.2"
  }
 },
 "nbformat": 4,
 "nbformat_minor": 1
}
