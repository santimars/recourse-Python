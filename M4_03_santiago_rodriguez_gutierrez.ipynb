{
 "cells": [
  {
   "cell_type": "markdown",
   "metadata": {},
   "source": [
    "# Ejercicios Modulo 4. Unidad 3. Errores y Excepciones\n",
    "\n",
    "Consideraciones a tener en cuenta: \n",
    "\n",
    "* Guardar este documento con el siguiente formato para su entrega: __M4_03_nombre_apellido1_apellido2__\n",
    "* Realizar los ejercicios con las herramientas vistas en las sesiones. \n",
    "* Comentar el código\n",
    "* Utilizar nombres de variables apropiados, si vais a guardar una nota, llamar a esa variable nota, no n o x"
   ]
  },
  {
   "cell_type": "markdown",
   "metadata": {},
   "source": [
    "**Identificar los errores en los siguiente bloques de código y evaluarlos con excepciones especificas para evitar errores no controlados en nuestros programas. Añade mensajes explicativos para el usuario.**\n",
    "<br>_Nota: Se tienen que evaluar excepciones concretas, no hacer referencia a Exception sin más._"
   ]
  },
  {
   "cell_type": "markdown",
   "metadata": {},
   "source": [
    "**1) Código a evaluar:**"
   ]
  },
  {
   "cell_type": "code",
   "execution_count": 2,
   "metadata": {},
   "outputs": [
    {
     "name": "stdout",
     "output_type": "stream",
     "text": [
      "Su repuesta es: 1.0 \n",
      "Muy bien\n",
      "cerramos la intruccion\n"
     ]
    }
   ],
   "source": [
    "while(True):\n",
    " try: \n",
    "    numeros = float(input(\"Introduzca su numero\"))\n",
    "    numeross = int(numeros)\n",
    "    numero = 7/numeross\n",
    "    print(f\"Su repuesta es: {numero} \")\n",
    "\n",
    " except TypeError:\n",
    "    print(\"No se puede dividir el numero por una cadena\")\n",
    " except ValueError:\n",
    "    print(\"Debes introducir una cadena sea un numero\")\n",
    " except ZeroDivisionError:\n",
    "    print(\"No se puede dividir por cero, prueba otro numero\")\n",
    " except Exception as e:\n",
    "    print(type(e).__name__)\n",
    " else:\n",
    "     print(\"Muy bien\")\n",
    "     break\n",
    "print(\"cerramos la intruccion\")   \n"
   ]
  },
  {
   "cell_type": "markdown",
   "metadata": {},
   "source": [
    "**2) Código a evaluar:**"
   ]
  },
  {
   "cell_type": "code",
   "execution_count": null,
   "metadata": {},
   "outputs": [],
   "source": [
    "\n",
    "try:\n",
    "    lista = [4, 7, 30, 23, 5]\n",
    "    lista =[10]  # Esto reemplaza la lista original, no es un error en tiempo de ejecución.\n",
    "except ValueError:\n",
    "    print(\"Se produjo un error al asignar una nueva lista.\")\n",
    "\n",
    "# se llama \"IndexError\"\n"
   ]
  },
  {
   "cell_type": "markdown",
   "metadata": {},
   "source": [
    "**3) Código a evaluar:**"
   ]
  },
  {
   "cell_type": "code",
   "execution_count": 1,
   "metadata": {},
   "outputs": [
    {
     "name": "stdout",
     "output_type": "stream",
     "text": [
      "La clave 'alemania' no está en la lista de países.\n"
     ]
    }
   ],
   "source": [
    "paises = {\"españa\": \"español\", \"eeuu\": \"inglés\", \"italia\": \"italiano\"}\n",
    "\n",
    "clave = \"alemania\"\n",
    "try:\n",
    "    idioma = paises[clave]\n",
    "    print(f\"El idioma de {clave} es {idioma}.\")\n",
    "except KeyError:\n",
    "    print(f\"La clave '{clave}' no está en la lista de países.\")\n",
    "\n"
   ]
  },
  {
   "cell_type": "markdown",
   "metadata": {},
   "source": [
    "**4) Localiza el error en el siguiente bloque de código.  Crea una excepción para evitar que el programa se bloquee y además explica en un mensaje al usuario la causa y/o solución:**"
   ]
  },
  {
   "cell_type": "code",
   "execution_count": 3,
   "metadata": {},
   "outputs": [
    {
     "name": "stdout",
     "output_type": "stream",
     "text": [
      "Error: No se pueden sumar una cadena y un número directamente. Debe convertir el número a una cadena o viceversa.\n"
     ]
    }
   ],
   "source": [
    "try:\n",
    "    resultado = \"2\" + 10\n",
    "    print(resultado)\n",
    "except TypeError:\n",
    "    print(\"Error: No se pueden sumar una cadena y un número directamente. Debe convertir el número a una cadena o viceversa.\")\n"
   ]
  },
  {
   "cell_type": "markdown",
   "metadata": {},
   "source": [
    "**5) Realiza una función llamada agregar_sin_repetidos() que reciba una lista y un elemento. La función debe añadir el elemento al final de la lista con la condición de no repetir ningún elemento. Además si este elemento ya se encuentra en la lista se debe invocar un error de tipo ValueError que debes capturar y mostrar este mensaje en su lugar:**\n",
    "\n",
    "```\n",
    "  Error: Imposible añadir elementos duplicados => [elemento].\n",
    "```\n",
    "**Prueba a agregar los elementos 7, \"Python\" y 5 a través de la función agregar_sin_repetidos() e imprime la lista completa al finalizar.**\n",
    "\n",
    "*Pista: Puedes utilizar la sintaxis: elemento in lista*"
   ]
  },
  {
   "cell_type": "code",
   "execution_count": 2,
   "metadata": {},
   "outputs": [
    {
     "name": "stdout",
     "output_type": "stream",
     "text": [
      "Error: Imposible añadir elementos duplicados => 5\n",
      "Error: Imposible añadir elementos duplicados => carlos\n",
      "[3, 5, 10, 7, 'Python', 'carlos']\n"
     ]
    }
   ],
   "source": [
    "def agregar_sin_repetidos(lista, elemento):\n",
    "    try:\n",
    "        if elemento in lista:\n",
    "            raise ValueError(f\"Error: Imposible añadir elementos duplicados => {elemento}\")\n",
    "        else:\n",
    "            lista.append(elemento)\n",
    "    except ValueError as e:\n",
    "        print(e)\n",
    "\n",
    "elementos = [3, 5, 10]\n",
    "\n",
    "# Prueba a agregar los elementos 7, \"Python\" y 5\n",
    "agregar_sin_repetidos(elementos, 7)\n",
    "agregar_sin_repetidos(elementos, \"Python\")\n",
    "agregar_sin_repetidos(elementos, 5)\n",
    "agregar_sin_repetidos(elementos, \"carlos\")\n",
    "agregar_sin_repetidos(elementos, \"carlos\")\n",
    "# Imprime la lista completa al finalizar\n",
    "print(elementos)\n"
   ]
  },
  {
   "cell_type": "markdown",
   "metadata": {},
   "source": [
    "**6) Busca en la documentación otra excepción que no se haya utilizado hasta ahora y realiza los siguientes pasos:**\n",
    "* Provoca el error en un código de ejemplo. \n",
    "* Una vez que las hayas provocado, contrólalas con try-except\n",
    "* Muestra al usuario la información por defecto que proporcione la excepción. Pista: as\n",
    "* Personaliza el mensaje que se le proporciona al usuario utilizando todo lo anterior"
   ]
  },
  {
   "cell_type": "code",
   "execution_count": null,
   "metadata": {},
   "outputs": [],
   "source": [
    "try:\n",
    "    archivo = open(\"archivo_que_no_existe.txt\", \"r\")\n",
    "except FileNotFoundError as e:\n",
    "    print(f\"Se produjo un error: {e}\")\n"
   ]
  }
 ],
 "metadata": {
  "anaconda-cloud": {},
  "kernelspec": {
   "display_name": "Python 3",
   "language": "python",
   "name": "python3"
  },
  "language_info": {
   "codemirror_mode": {
    "name": "ipython",
    "version": 3
   },
   "file_extension": ".py",
   "mimetype": "text/x-python",
   "name": "python",
   "nbconvert_exporter": "python",
   "pygments_lexer": "ipython3",
   "version": "3.10.2"
  }
 },
 "nbformat": 4,
 "nbformat_minor": 1
}
