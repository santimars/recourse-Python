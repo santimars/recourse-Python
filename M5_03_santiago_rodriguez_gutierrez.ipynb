{
 "cells": [
  {
   "cell_type": "markdown",
   "metadata": {},
   "source": [
    "# Ejercicios Modulo 5. JSON\n",
    "\n",
    "Consideraciones a tener en cuenta: \n",
    "\n",
    "* Guardar este documento con el siguiente formato para su entrega: __M5_03_nombre_apellido1_apellido2__\n",
    "* Realizar los ejercicios con las herramientas vistas en las sesiones. \n",
    "* Comentar el código\n",
    "* Utilizar nombres de variables apropiados, si vais a guardar una nota, llamar a esa variable nota, no n o x"
   ]
  },
  {
   "cell_type": "markdown",
   "metadata": {},
   "source": [
    "# JSON (JavaScript Object Notation)"
   ]
  },
  {
   "cell_type": "markdown",
   "metadata": {},
   "source": [
    "1) A continuación se muestra un JSON String\n",
    "\n",
    "{\"jefe_proyecto\": {\"Nombre\": \"Juan\",\"Edad\": 28,\"Experiencia\": [\"Gestion\",\"Finanzas\",\"Bases de datos\"],\"Residencia\": \"Madrid\",\"HorasProyecto\": 3500},\"empleados\": [{\"Nombre\": \"Elena\",\"Edad\": 26,\"Experiencia\": [\"JavaScript\",\"Python\"],\"Residencia\": \"Madrid\",\"HorasProyecto\": 500},{\"Nombre\": \"Luis\",\"Edad\": 31,\"Experiencia\": [\"Django\",\"Flask\",\"Pyramid\"],\"Residencia\": \"Barcelona\",\"HorasProyecto\": 1100}]}\n",
    "\n",
    "* Si es necesario utiliza un visualizador de JSON para entenderlo.\n",
    "* El objetivo es crear un diccionario con todos los datos y estructuras internas necesarias para que sea igual que el JSON String\n",
    "* Vete creando estructuras más pequeñas hasta que llegues a formar el mismo JSON string que ves arriba\n",
    "* Una vez que lo tengas creado, vamos a operar con él\n",
    "* Almacena esta estructura (el diccionario) en una variable\n",
    "* Comprueba su tipo y muéstrala por pantalla\n",
    "* Crea dos variables: horas_empleados y horas_jefe\n",
    "* Extrae las horas del jefe e introducelas en su variable\n",
    "* Crea un bucle que recorra el número de empleados que se tienen en la estructura, y para cada empleado vete sumando sus horas en su correspondiente variable\n",
    "* Suma todas las horas y muéstralas por pantalla"
   ]
  },
  {
   "cell_type": "code",
   "execution_count": 1,
   "metadata": {},
   "outputs": [],
   "source": [
    "data = {\n",
    "    \"jefe_proyecto\": {\n",
    "        \"Nombre\": \"Juan\",\n",
    "        \"Edad\": 28,\n",
    "        \"Experiencia\": [\"Gestion\", \"Finanzas\", \"Bases de datos\"],\n",
    "        \"Residencia\": \"Madrid\",\n",
    "        \"HorasProyecto\": 3500\n",
    "    },\n",
    "    \"empleados\": [\n",
    "        {\n",
    "            \"Nombre\": \"Elena\",\n",
    "            \"Edad\": 26,\n",
    "            \"Experiencia\": [\"JavaScript\", \"Python\"],\n",
    "            \"Residencia\": \"Madrid\",\n",
    "            \"HorasProyecto\": 500\n",
    "        },\n",
    "        {\n",
    "            \"Nombre\": \"Luis\",\n",
    "            \"Edad\": 31,\n",
    "            \"Experiencia\": [\"Django\", \"Flask\", \"Pyramid\"],\n",
    "            \"Residencia\": \"Barcelona\",\n",
    "            \"HorasProyecto\": 1100\n",
    "        }\n",
    "    ]\n",
    "}\n"
   ]
  },
  {
   "cell_type": "markdown",
   "metadata": {},
   "source": [
    "2) En el ejercicio anterior has trabajado con un diccionario que tu mismo/a creaste, conviértelo a un formato JSON String, muestra su tipo y los datos por pantalla\n",
    "¿Para qué nos sirve este formato?"
   ]
  },
  {
   "cell_type": "code",
   "execution_count": 3,
   "metadata": {},
   "outputs": [],
   "source": []
  },
  {
   "cell_type": "markdown",
   "metadata": {},
   "source": [
    "3) A veces os encontraréis con JSON que tendréis que modificar. Para ello tenéis que decodificarlos, realizar las modificaciones pertinentes y volver a codificarlo para dejarlo como JSON de nuevo. En el siguiente ejemplo os habéis dado cuenta de que hay algunos errores:\n",
    "* A Superman le falta como poder \"Volar\"\n",
    "* En Batman, la edad es 35, no 350\n",
    "* En Batman, le sobra el poder de \"Rayos en los ojos\"\n",
    "* En Wonder Woman le falta el poder \"Lazo de la verdad\"\n",
    "* Después de corregir todo esto, transforma estos datos en un JSON String"
   ]
  },
  {
   "cell_type": "code",
   "execution_count": 59,
   "metadata": {},
   "outputs": [],
   "source": [
    "# NO TOCAR NADA DE ESTE BLOQUE\n",
    "superheroes = {\n",
    "\t\"nombreEquipo\": \"Super Hero Squad\",\n",
    "\t\"ciudad\": \"Metro City\",\n",
    "\t\"formado\": 2016,\n",
    "\t\"baseSecreta\": \"Super Tower\",\n",
    "\t\"activo\": \"Si\",\n",
    "\t\"miembros\": [\n",
    "\t\t{\n",
    "\t\t\t\"nombre\": \"SuperMan\",\n",
    "\t\t\t\"edad\": 29,\n",
    "\t\t\t\"identidadSecreta\": \"Clart Kent\",\n",
    "\t\t\t\"poderes\": [\n",
    "\t\t\t\t\"Super fuerza\",\n",
    "\t\t\t\t\"Super velocidad\",\n",
    "\t\t\t\t\"Rayos en los ojos\"\n",
    "\t\t\t]\n",
    "\t\t},\n",
    "\t\t{\n",
    "\t\t\t\"nombre\": \"Batman\",\n",
    "\t\t\t\"edad\": 350,\n",
    "\t\t\t\"identidadSecreta\": \"Bruce Wayne\",\n",
    "\t\t\t\"poderes\": [\n",
    "\t\t\t\t\"Detective\",\n",
    "\t\t\t\t\"Dinero\",\n",
    "\t\t\t\t\"Rayos en los ojos\"\n",
    "\t\t\t]\n",
    "\t\t},\n",
    "\t\t{\n",
    "\t\t\t\"nombre\": \"Wonder Woman\",\n",
    "\t\t\t\"edad\": 900,\n",
    "\t\t\t\"identidadSecreta\": \"Diana de Temiscira\",\n",
    "\t\t\t\"poderes\": [\n",
    "\t\t\t\t\"Super fuerza\",\n",
    "\t\t\t\t\"Super velocidad\"\n",
    "\t\t\t]\n",
    "\t\t}\n",
    "\t]\n",
    "}"
   ]
  },
  {
   "cell_type": "code",
   "execution_count": 4,
   "metadata": {},
   "outputs": [],
   "source": []
  },
  {
   "cell_type": "markdown",
   "metadata": {},
   "source": [
    "4) En base al ejercicio anterior, modifica la estructura de super para lograr que miembros tenga dos ramas: \"miembrosActivos\" y \"miembrosInactivos\", donde cada una de estas ramas, almacenen los héroes que están en activo y los que no. En este caso, introduce a SuperMan y Wonder Woman en la lista de activos y a Batman en la de Inactivos. Esta modificación puedes hacerla como quieras, o bien programando las estructuras de datos e ir componiéndolo o bien cogiendo el JSON y modificándolo sobre él mismo. Al finalizar puedes comprobar tu JSON en un visualizador online (http://jsonviewer.stack.hu/)"
   ]
  },
  {
   "cell_type": "code",
   "execution_count": 5,
   "metadata": {},
   "outputs": [],
   "source": []
  },
  {
   "cell_type": "markdown",
   "metadata": {},
   "source": [
    "5) En el siguiente código, accedemos a un JSON de forma remota, a partir de la respuesta, realizar lo siguiente:\n",
    "* Mostrar el tipo de dato que se ha recibido\n",
    "* Mostrar los datos recibidos\n",
    "* Mostrar el número de personas que se encuentran actualmente en el espacio\n",
    "* Realizar un bucle que recorra a todas esas personas y muestre nombre y nave en la que se encuentra."
   ]
  },
  {
   "cell_type": "code",
   "execution_count": 6,
   "metadata": {},
   "outputs": [],
   "source": [
    "import requests\n",
    "\n",
    "# API que nos comunica cuantas personas se encuentran actualmente en el espacio\n",
    "response = requests.get(\"http://api.open-notify.org/astros.json\")\n",
    "data = response.json()\n",
    "\n"
   ]
  }
 ],
 "metadata": {
  "anaconda-cloud": {},
  "kernelspec": {
   "display_name": "Python 3",
   "language": "python",
   "name": "python3"
  },
  "language_info": {
   "codemirror_mode": {
    "name": "ipython",
    "version": 3
   },
   "file_extension": ".py",
   "mimetype": "text/x-python",
   "name": "python",
   "nbconvert_exporter": "python",
   "pygments_lexer": "ipython3",
   "version": "3.8.3"
  }
 },
 "nbformat": 4,
 "nbformat_minor": 1
}
