{
 "cells": [
  {
   "cell_type": "markdown",
   "metadata": {},
   "source": [
    "# Ejercicios Modulo 5. JSON\n",
    "\n",
    "Consideraciones a tener en cuenta: \n",
    "\n",
    "* Guardar este documento con el siguiente formato para su entrega: __M5_03_nombre_apellido1_apellido2__\n",
    "* Realizar los ejercicios con las herramientas vistas en las sesiones. \n",
    "* Comentar el código\n",
    "* Utilizar nombres de variables apropiados, si vais a guardar una nota, llamar a esa variable nota, no n o x"
   ]
  },
  {
   "cell_type": "markdown",
   "metadata": {},
   "source": [
    "# JSON (JavaScript Object Notation)"
   ]
  },
  {
   "cell_type": "markdown",
   "metadata": {},
   "source": [
    "1) A continuación se muestra un JSON String\n",
    "\n",
    "{\"jefe_proyecto\": {\"Nombre\": \"Juan\",\"Edad\": 28,\"Experiencia\": [\"Gestion\",\"Finanzas\",\"Bases de datos\"],\"Residencia\": \"Madrid\",\"HorasProyecto\": 3500},\"empleados\": [{\"Nombre\": \"Elena\",\"Edad\": 26,\"Experiencia\": [\"JavaScript\",\"Python\"],\"Residencia\": \"Madrid\",\"HorasProyecto\": 500},{\"Nombre\": \"Luis\",\"Edad\": 31,\"Experiencia\": [\"Django\",\"Flask\",\"Pyramid\"],\"Residencia\": \"Barcelona\",\"HorasProyecto\": 1100}]}\n",
    "\n",
    "* Si es necesario utiliza un visualizador de JSON para entenderlo.\n",
    "* El objetivo es crear un diccionario con todos los datos y estructuras internas necesarias para que sea igual que el JSON String\n",
    "* Vete creando estructuras más pequeñas hasta que llegues a formar el mismo JSON string que ves arriba\n",
    "* Una vez que lo tengas creado, vamos a operar con él\n",
    "* Almacena esta estructura (el diccionario) en una variable\n",
    "* Comprueba su tipo y muéstrala por pantalla\n",
    "* Crea dos variables: horas_empleados y horas_jefe\n",
    "* Extrae las horas del jefe e introducelas en su variable\n",
    "* Crea un bucle que recorra el número de empleados que se tienen en la estructura, y para cada empleado vete sumando sus horas en su correspondiente variable\n",
    "* Suma todas las horas y muéstralas por pantalla"
   ]
  },
  {
   "cell_type": "code",
   "execution_count": 1,
   "metadata": {},
   "outputs": [
    {
     "name": "stdout",
     "output_type": "stream",
     "text": [
      "Tipo de la variable 'data': <class 'dict'>\n",
      "Horas del jefe: 3500\n",
      "Horas de los empleados: 1600\n",
      "Total de horas: 5100\n"
     ]
    }
   ],
   "source": [
    "data = {\n",
    "    \"jefe_proyecto\": {\n",
    "        \"Nombre\": \"Juan\",\n",
    "        \"Edad\": 28,\n",
    "        \"Experiencia\": [\"Gestion\", \"Finanzas\", \"Bases de datos\"],\n",
    "        \"Residencia\": \"Madrid\",\n",
    "        \"HorasProyecto\": 3500\n",
    "    },\n",
    "    \"empleados\": [\n",
    "        {\n",
    "            \"Nombre\": \"Elena\",\n",
    "            \"Edad\": 26,\n",
    "            \"Experiencia\": [\"JavaScript\", \"Python\"],\n",
    "            \"Residencia\": \"Madrid\",\n",
    "            \"HorasProyecto\": 500\n",
    "        },\n",
    "        {\n",
    "            \"Nombre\": \"Luis\",\n",
    "            \"Edad\": 31,\n",
    "            \"Experiencia\": [\"Django\", \"Flask\", \"Pyramid\"],\n",
    "            \"Residencia\": \"Barcelona\",\n",
    "            \"HorasProyecto\": 1100\n",
    "        }\n",
    "    ]\n",
    "}\n",
    "# Comprobamos el tipo del diccionario y lo mostramos por pantalla\n",
    "print(\"Tipo de la variable 'data':\", type(data))\n",
    "\n",
    "# Creamos las variables horas_empleados y horas_jefe\n",
    "horas_empleados = 0\n",
    "horas_jefe = data[\"jefe_proyecto\"][\"HorasProyecto\"]\n",
    "\n",
    "# Iteramos sobre los empleados para sumar sus horas\n",
    "for empleado in data[\"empleados\"]:\n",
    "    horas_empleados += empleado[\"HorasProyecto\"]\n",
    "\n",
    "# Sumamos todas las horas\n",
    "total_horas = horas_jefe + horas_empleados\n",
    "\n",
    "# Mostramos las horas por pantalla\n",
    "print(\"Horas del jefe:\", horas_jefe)\n",
    "print(\"Horas de los empleados:\", horas_empleados)\n",
    "print(\"Total de horas:\", total_horas)\n"
   ]
  },
  {
   "cell_type": "markdown",
   "metadata": {},
   "source": [
    "2) En el ejercicio anterior has trabajado con un diccionario que tu mismo/a creaste, conviértelo a un formato JSON String, muestra su tipo y los datos por pantalla\n",
    "¿Para qué nos sirve este formato?"
   ]
  },
  {
   "cell_type": "code",
   "execution_count": 4,
   "metadata": {},
   "outputs": [
    {
     "name": "stdout",
     "output_type": "stream",
     "text": [
      "Tipo del JSON String: <class 'str'>\n",
      "Datos en formato JSON:\n",
      "{\"message\": \"success\", \"people\": [{\"name\": \"Jasmin Moghbeli\", \"craft\": \"ISS\"}, {\"name\": \"Andreas Mogensen\", \"craft\": \"ISS\"}, {\"name\": \"Satoshi Furukawa\", \"craft\": \"ISS\"}, {\"name\": \"Konstantin Borisov\", \"craft\": \"ISS\"}, {\"name\": \"Oleg Kononenko\", \"craft\": \"ISS\"}, {\"name\": \"Nikolai Chub\", \"craft\": \"ISS\"}, {\"name\": \"Loral O'Hara\", \"craft\": \"ISS\"}], \"number\": 7}\n"
     ]
    },
    {
     "data": {
      "text/plain": [
       "'\\nEl formato JSON (JavaScript Object Notation) es útil porque es un formato de intercambio de datos \\nligero y fácil de leer y escribir. Es ampliamente utilizado en aplicaciones web y APIs\\npara enviar datos entre el servidor y el cliente. Además, es independiente del lenguaje,\\nlo que significa que puede ser interpretado y utilizado por diferentes lenguajes de programación.\\nEsto lo hace muy útil para la comunicación entre sistemas heterogéneos.\\n'"
      ]
     },
     "execution_count": 4,
     "metadata": {},
     "output_type": "execute_result"
    }
   ],
   "source": [
    "\n",
    "import json\n",
    "\n",
    "# Convertir el diccionario en un JSON String\n",
    "json_string = json.dumps(data)\n",
    "\n",
    "# Mostrar el tipo del JSON String y los datos por pantalla\n",
    "print(\"Tipo del JSON String:\", type(json_string))\n",
    "print(\"Datos en formato JSON:\")\n",
    "print(json_string)\n",
    "\n",
    "\"\"\"\n",
    "El formato JSON (JavaScript Object Notation) es útil porque es un formato de intercambio de datos \n",
    "ligero y fácil de leer y escribir. Es ampliamente utilizado en aplicaciones web y APIs\n",
    "para enviar datos entre el servidor y el cliente. Además, es independiente del lenguaje,\n",
    "lo que significa que puede ser interpretado y utilizado por diferentes lenguajes de programación.\n",
    "Esto lo hace muy útil para la comunicación entre sistemas heterogéneos.\n",
    "\"\"\""
   ]
  },
  {
   "cell_type": "markdown",
   "metadata": {},
   "source": [
    "3) A veces os encontraréis con JSON que tendréis que modificar. Para ello tenéis que decodificarlos, realizar las modificaciones pertinentes y volver a codificarlo para dejarlo como JSON de nuevo. En el siguiente ejemplo os habéis dado cuenta de que hay algunos errores:\n",
    "* A Superman le falta como poder \"Volar\"\n",
    "* En Batman, la edad es 35, no 350\n",
    "* En Batman, le sobra el poder de \"Rayos en los ojos\"\n",
    "* En Wonder Woman le falta el poder \"Lazo de la verdad\"\n",
    "* Después de corregir todo esto, transforma estos datos en un JSON String"
   ]
  },
  {
   "cell_type": "code",
   "execution_count": 8,
   "metadata": {},
   "outputs": [
    {
     "name": "stdout",
     "output_type": "stream",
     "text": [
      "{\n",
      "    \"nombreEquipo\": \"Super Hero Squad\",\n",
      "    \"ciudad\": \"Metro City\",\n",
      "    \"formado\": 2016,\n",
      "    \"baseSecreta\": \"Super Tower\",\n",
      "    \"activo\": \"Si\",\n",
      "    \"miembros\": [\n",
      "        {\n",
      "            \"nombre\": \"SuperMan\",\n",
      "            \"edad\": 29,\n",
      "            \"identidadSecreta\": \"Clart Kent\",\n",
      "            \"poderes\": [\n",
      "                \"Super fuerza\",\n",
      "                \"Super velocidad\",\n",
      "                \"Rayos en los ojos\"\n",
      "            ]\n",
      "        },\n",
      "        {\n",
      "            \"nombre\": \"Batman\",\n",
      "            \"edad\": 350,\n",
      "            \"identidadSecreta\": \"Bruce Wayne\",\n",
      "            \"poderes\": [\n",
      "                \"Detective\",\n",
      "                \"Dinero\",\n",
      "                \"Rayos en los ojos\"\n",
      "            ]\n",
      "        },\n",
      "        {\n",
      "            \"nombre\": \"Wonder Woman\",\n",
      "            \"edad\": 900,\n",
      "            \"identidadSecreta\": \"Diana de Temiscira\",\n",
      "            \"poderes\": [\n",
      "                \"Super fuerza\",\n",
      "                \"Super velocidad\"\n",
      "            ]\n",
      "        }\n",
      "    ]\n",
      "}\n"
     ]
    }
   ],
   "source": [
    "# NO TOCAR NADA DE ESTE BLOQUE\n",
    "superheroes = {\n",
    "\t\"nombreEquipo\": \"Super Hero Squad\",\n",
    "\t\"ciudad\": \"Metro City\",\n",
    "\t\"formado\": 2016,\n",
    "\t\"baseSecreta\": \"Super Tower\",\n",
    "\t\"activo\": \"Si\",\n",
    "\t\"miembros\": [\n",
    "\t\t{\n",
    "\t\t\t\"nombre\": \"SuperMan\",\n",
    "\t\t\t\"edad\": 29,\n",
    "\t\t\t\"identidadSecreta\": \"Clart Kent\",\n",
    "\t\t\t\"poderes\": [\n",
    "\t\t\t\t\"Super fuerza\",\n",
    "\t\t\t\t\"Super velocidad\",\n",
    "\t\t\t\t\"Rayos en los ojos\"\n",
    "\t\t\t]\n",
    "\t\t},\n",
    "\t\t{\n",
    "\t\t\t\"nombre\": \"Batman\",\n",
    "\t\t\t\"edad\": 350,\n",
    "\t\t\t\"identidadSecreta\": \"Bruce Wayne\",\n",
    "\t\t\t\"poderes\": [\n",
    "\t\t\t\t\"Detective\",\n",
    "\t\t\t\t\"Dinero\",\n",
    "\t\t\t\t\"Rayos en los ojos\"\n",
    "\t\t\t]\n",
    "\t\t},\n",
    "\t\t{\n",
    "\t\t\t\"nombre\": \"Wonder Woman\",\n",
    "\t\t\t\"edad\": 900,\n",
    "\t\t\t\"identidadSecreta\": \"Diana de Temiscira\",\n",
    "\t\t\t\"poderes\": [\n",
    "\t\t\t\t\"Super fuerza\",\n",
    "\t\t\t\t\"Super velocidad\"\n",
    "\t\t\t]\n",
    "\t\t}\n",
    "\t]\n",
    "}\n",
    "# Codificar de nuevo a JSON\n",
    "superheroes_json_corregido = json.dumps(superheroes, indent=4)\n",
    "\n",
    "# Imprimir el JSON corregido\n",
    "print(superheroes_json_corregido)"
   ]
  },
  {
   "cell_type": "code",
   "execution_count": null,
   "metadata": {},
   "outputs": [],
   "source": []
  },
  {
   "cell_type": "markdown",
   "metadata": {},
   "source": [
    "4) En base al ejercicio anterior, modifica la estructura de super para lograr que miembros tenga dos ramas: \"miembrosActivos\" y \"miembrosInactivos\", donde cada una de estas ramas, almacenen los héroes que están en activo y los que no. En este caso, introduce a SuperMan y Wonder Woman en la lista de activos y a Batman en la de Inactivos. Esta modificación puedes hacerla como quieras, o bien programando las estructuras de datos e ir componiéndolo o bien cogiendo el JSON y modificándolo sobre él mismo. Al finalizar puedes comprobar tu JSON en un visualizador online (http://jsonviewer.stack.hu/)"
   ]
  },
  {
   "cell_type": "code",
   "execution_count": 9,
   "metadata": {},
   "outputs": [
    {
     "name": "stdout",
     "output_type": "stream",
     "text": [
      "{\n",
      "    \"nombreEquipo\": \"Super Hero Squad\",\n",
      "    \"ciudad\": \"Metro City\",\n",
      "    \"formado\": 2016,\n",
      "    \"baseSecreta\": \"Super Tower\",\n",
      "    \"activo\": \"Si\",\n",
      "    \"miembros\": {\n",
      "        \"miembrosActivos\": [\n",
      "            {\n",
      "                \"nombre\": \"SuperMan\",\n",
      "                \"edad\": 29,\n",
      "                \"identidadSecreta\": \"Clart Kent\",\n",
      "                \"poderes\": [\n",
      "                    \"Super fuerza\",\n",
      "                    \"Super velocidad\",\n",
      "                    \"Rayos en los ojos\"\n",
      "                ]\n",
      "            },\n",
      "            {\n",
      "                \"nombre\": \"Wonder Woman\",\n",
      "                \"edad\": 900,\n",
      "                \"identidadSecreta\": \"Diana de Temiscira\",\n",
      "                \"poderes\": [\n",
      "                    \"Super fuerza\",\n",
      "                    \"Super velocidad\"\n",
      "                ]\n",
      "            }\n",
      "        ],\n",
      "        \"miembrosInactivos\": [\n",
      "            {\n",
      "                \"nombre\": \"Batman\",\n",
      "                \"edad\": 350,\n",
      "                \"identidadSecreta\": \"Bruce Wayne\",\n",
      "                \"poderes\": [\n",
      "                    \"Detective\",\n",
      "                    \"Dinero\",\n",
      "                    \"Rayos en los ojos\"\n",
      "                ]\n",
      "            }\n",
      "        ]\n",
      "    }\n",
      "}\n"
     ]
    }
   ],
   "source": [
    "# Dividir miembros en miembrosActivos y miembrosInactivos\n",
    "miembros_activos = []\n",
    "miembros_inactivos = []\n",
    "\n",
    "for miembro in superheroes[\"miembros\"]:\n",
    "    if miembro[\"nombre\"] == \"SuperMan\" or miembro[\"nombre\"] == \"Wonder Woman\":\n",
    "        miembros_activos.append(miembro)\n",
    "    else:\n",
    "        miembros_inactivos.append(miembro)\n",
    "\n",
    "# Actualizar la estructura de superheroes\n",
    "superheroes[\"miembros\"] = {\n",
    "    \"miembrosActivos\": miembros_activos,\n",
    "    \"miembrosInactivos\": miembros_inactivos\n",
    "}\n",
    "\n",
    "# Codificar de nuevo a JSON\n",
    "superheroes_json_modificado = json.dumps(superheroes, indent=4)\n",
    "\n",
    "# Imprimir el JSON modificado\n",
    "print(superheroes_json_modificado)\n"
   ]
  },
  {
   "cell_type": "markdown",
   "metadata": {},
   "source": [
    "5) En el siguiente código, accedemos a un JSON de forma remota, a partir de la respuesta, realizar lo siguiente:\n",
    "* Mostrar el tipo de dato que se ha recibido\n",
    "* Mostrar los datos recibidos\n",
    "* Mostrar el número de personas que se encuentran actualmente en el espacio\n",
    "* Realizar un bucle que recorra a todas esas personas y muestre nombre y nave en la que se encuentra."
   ]
  },
  {
   "cell_type": "code",
   "execution_count": 11,
   "metadata": {},
   "outputs": [
    {
     "name": "stdout",
     "output_type": "stream",
     "text": [
      "Tipo de dato recibido: <class 'dict'>\n",
      "Datos recibidos:\n",
      "{'message': 'success', 'people': [{'name': 'Jasmin Moghbeli', 'craft': 'ISS'}, {'name': 'Andreas Mogensen', 'craft': 'ISS'}, {'name': 'Satoshi Furukawa', 'craft': 'ISS'}, {'name': 'Konstantin Borisov', 'craft': 'ISS'}, {'name': 'Oleg Kononenko', 'craft': 'ISS'}, {'name': 'Nikolai Chub', 'craft': 'ISS'}, {'name': \"Loral O'Hara\", 'craft': 'ISS'}], 'number': 7}\n",
      "Número de personas en el espacio: 7\n",
      "Personas en el espacio:\n",
      "Nombre: Jasmin Moghbeli\n",
      "Nave: ISS\n",
      "Nombre: Andreas Mogensen\n",
      "Nave: ISS\n",
      "Nombre: Satoshi Furukawa\n",
      "Nave: ISS\n",
      "Nombre: Konstantin Borisov\n",
      "Nave: ISS\n",
      "Nombre: Oleg Kononenko\n",
      "Nave: ISS\n",
      "Nombre: Nikolai Chub\n",
      "Nave: ISS\n",
      "Nombre: Loral O'Hara\n",
      "Nave: ISS\n"
     ]
    }
   ],
   "source": [
    "import requests\n",
    "\n",
    "# API que nos comunica cuantas personas se encuentran actualmente en el espacio\n",
    "response = requests.get(\"http://api.open-notify.org/astros.json\")\n",
    "data = response.json()\n",
    "\n",
    "# Mostrar el tipo de dato que se ha recibido\n",
    "print(\"Tipo de dato recibido:\", type(data))\n",
    "\n",
    "# Mostrar los datos recibidos\n",
    "print(\"Datos recibidos:\")\n",
    "print(data)\n",
    "\n",
    "# Mostrar el número de personas que se encuentran actualmente en el espacio\n",
    "num_personas = data[\"number\"]\n",
    "print(\"Número de personas en el espacio:\", num_personas)\n",
    "\n",
    "# Realizar un bucle que recorra a todas esas personas y muestre nombre y nave en la que se encuentra\n",
    "print(\"Personas en el espacio:\")\n",
    "for persona in data[\"people\"]:\n",
    "    print(\"Nombre:\", persona[\"name\"])\n",
    "    print(\"Nave:\", persona[\"craft\"])\n",
    "\n",
    "\n"
   ]
  }
 ],
 "metadata": {
  "anaconda-cloud": {},
  "kernelspec": {
   "display_name": "Python 3",
   "language": "python",
   "name": "python3"
  },
  "language_info": {
   "codemirror_mode": {
    "name": "ipython",
    "version": 3
   },
   "file_extension": ".py",
   "mimetype": "text/x-python",
   "name": "python",
   "nbconvert_exporter": "python",
   "pygments_lexer": "ipython3",
   "version": "3.12.1"
  }
 },
 "nbformat": 4,
 "nbformat_minor": 1
}
