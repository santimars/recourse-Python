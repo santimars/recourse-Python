{
 "cells": [
  {
   "cell_type": "markdown",
   "metadata": {},
   "source": [
    "# Ejercicios Modulo 5. Ficheros (Enunciado)\n",
    "\n",
    "Consideraciones a tener en cuenta: \n",
    "\n",
    "* Guardar este documento con el siguiente formato para su entrega: __M5_01_nombre_apellido1_apellido2__\n",
    "* Realizar los ejercicios con las herramientas vistas en las sesiones. \n",
    "* Comentar el código\n",
    "* Utilizar nombres de variables apropiados, si vais a guardar una nota, llamar a esa variable nota, no n o x"
   ]
  },
  {
   "cell_type": "markdown",
   "metadata": {},
   "source": [
    "**1) En este ejercicio deberás crear un programa que abra y lea un fichero de texto, y nos proporcione la siguiente información:**\n",
    "\n",
    "* Nombre del fichero\n",
    "* Si el fichero esta cerrado o no (True o False)\n",
    "* El modo de apertura del fichero\n",
    "\n",
    "El fichero de texto se denominará **pruebas.txt** y tendrá el siguiente contenido en texto plano (créalo previamente):\n",
    "\n",
    "```\n",
    "Hola que tal estas\n",
    "Esto es una prueba\n",
    "Hoy no llueve\n",
    "Se acerca la navidad\n",
    "Hasta luego y muy buenas\n",
    "```\n",
    "\n",
    "Busca en la documentación que métodos nos proporcionan la información requerida. Por último, lista el contenido del fichero.\n",
    "\n",
    "**Aviso importante**: *Si quieres leer un fichero que no se ha escrito directamente con Python, entonces es posible que encuentres errores de codificación al mostrar algunos caracteres. Asegúrate de indicar la codificación del fichero manualmente durante la apertura como argumento en el **open**, por ejemplo con UTF-8:*\n",
    "\n",
    "```python\n",
    "open(..., encoding=\"utf8\")\n",
    "```"
   ]
  },
  {
   "cell_type": "code",
   "execution_count": 1,
   "metadata": {},
   "outputs": [
    {
     "name": "stdout",
     "output_type": "stream",
     "text": [
      "Nombre del archivo: pruebas.txt\n",
      "¿El archivo está cerrado? False\n",
      "Modo de apertura: r\n",
      "\n",
      "Contenido del archivo:\n",
      "Hola que tal estas\n",
      "Esto es una prueba\n",
      "Hoy no llueve\n",
      "Se acerca la navidad\n",
      "Hasta luego y muy buenas\n"
     ]
    }
   ],
   "source": [
    "# Nombre del archivo\n",
    "nombre_archivo = \"pruebas.txt\"\n",
    "\n",
    "try:\n",
    "    # Abre el archivo en modo lectura\n",
    "    with open(nombre_archivo, mode='r', encoding=\"utf8\") as archivo:\n",
    "        # Información sobre el archivo\n",
    "        print(\"Nombre del archivo:\", archivo.name)\n",
    "        print(\"¿El archivo está cerrado?\", archivo.closed)\n",
    "        print(\"Modo de apertura:\", archivo.mode)\n",
    "        \n",
    "        # Lee y muestra el contenido del archivo\n",
    "        print(\"\\nContenido del archivo:\")\n",
    "        contenido = archivo.read()\n",
    "        print(contenido)\n",
    "except FileNotFoundError:\n",
    "    print(\"El archivo '{}' no existe.\".format(nombre_archivo))\n",
    "except Exception as e:\n",
    "    print(\"Se produjo un error:\", e)\n"
   ]
  },
  {
   "cell_type": "markdown",
   "metadata": {},
   "source": [
    "**2) Sobre el fichero anterior, obtén la siguiente información:**\n",
    "\n",
    "* Lectura de una línea del fichero\n",
    "* Lectura del fichero línea a línea"
   ]
  },
  {
   "cell_type": "code",
   "execution_count": 4,
   "metadata": {},
   "outputs": [
    {
     "name": "stdout",
     "output_type": "stream",
     "text": [
      "Lectura de una línea del archivo:\n",
      "Hola que tal estas\n",
      "\n",
      "\n",
      "Lectura del archivo línea a línea:\n",
      "Hola que tal estas\n",
      "Esto es una prueba\n",
      "Hoy no llueve\n",
      "Se acerca la navidad\n",
      "Hasta luego y muy buenas"
     ]
    }
   ],
   "source": [
    "# Nombre del archivo\n",
    "nombre_archivo = \"pruebas.txt\"\n",
    "\n",
    "try:\n",
    "    # Abre el archivo en modo lectura\n",
    "    with open(nombre_archivo, mode='r', encoding=\"utf8\") as archivo:\n",
    "        # Lectura de una línea del archivo\n",
    "        print(\"Lectura de una línea del archivo:\")\n",
    "        linea = archivo.readline()\n",
    "        print(linea)\n",
    "\n",
    "        # Lectura del archivo línea a línea\n",
    "        print(\"\\nLectura del archivo línea a línea:\")\n",
    "        archivo.seek(0)  # Regresar al inicio del archivo\n",
    "        for linea in archivo:\n",
    "            print(linea, end='')\n",
    "except FileNotFoundError:\n",
    "    print(\"El archivo '{}' no existe.\".format(nombre_archivo))\n",
    "except Exception as e:\n",
    "    print(\"Se produjo un error:\", e)\n"
   ]
  },
  {
   "cell_type": "markdown",
   "metadata": {},
   "source": [
    "**3) Sobre el fichero anterior, realiza la siguiente operación:**\n",
    "\n",
    "* Abrir el fichero en modo escritura (concatenando el contenido, sin sobrescribirlo) y escribir una nueva línea de texto\n",
    "\n",
    "Comprueba que este funcionando correctamente comprobando el fichero (tendrás que cerrarlo y abrirlo para poder visualizar los cambios)."
   ]
  },
  {
   "cell_type": "code",
   "execution_count": 5,
   "metadata": {},
   "outputs": [
    {
     "name": "stdout",
     "output_type": "stream",
     "text": [
      "Se ha añadido una nueva línea al archivo correctamente.\n"
     ]
    }
   ],
   "source": [
    "# Nombre del archivo\n",
    "nombre_archivo = \"pruebas.txt\"\n",
    "\n",
    "try:\n",
    "    # Abre el archivo en modo escritura concatenando el contenido\n",
    "    with open(nombre_archivo, mode='a', encoding=\"utf8\") as archivo:\n",
    "        # Escribe una nueva línea de texto\n",
    "        nueva_linea = \"Esta es una nueva línea añadida al final del archivo.\\n\"\n",
    "        archivo.write(nueva_linea)\n",
    "    print(\"Se ha añadido una nueva línea al archivo correctamente.\")\n",
    "except FileNotFoundError:\n",
    "    print(\"El archivo '{}' no existe.\".format(nombre_archivo))\n",
    "except Exception as e:\n",
    "    print(\"Se produjo un error:\", e)\n"
   ]
  },
  {
   "cell_type": "markdown",
   "metadata": {},
   "source": [
    "**4) Sobre el fichero anterior, realiza la siguiente operación:**\n",
    "\n",
    "* Abrir el fichero en modo escritura (sobrescribiendo el contenido) y escribir una nueva línea de texto\n",
    "\n",
    "Comprueba que este funcionando correctamente comprobando el fichero (tendrás que cerrarlo y abrirlo para poder visualizar los cambios)."
   ]
  },
  {
   "cell_type": "code",
   "execution_count": 6,
   "metadata": {},
   "outputs": [
    {
     "name": "stdout",
     "output_type": "stream",
     "text": [
      "Se ha sobrescrito el contenido del archivo y se ha añadido una nueva línea correctamente.\n"
     ]
    }
   ],
   "source": [
    "# Nombre del archivo\n",
    "nombre_archivo = \"pruebas.txt\"\n",
    "\n",
    "try:\n",
    "    # Abre el archivo en modo escritura sobrescribiendo el contenido\n",
    "    with open(nombre_archivo, mode='w', encoding=\"utf8\") as archivo:\n",
    "        # Escribe una nueva línea de texto\n",
    "        nueva_linea = \"Este es el nuevo contenido del archivo.\\n\"\n",
    "        archivo.write(nueva_linea)\n",
    "    print(\"Se ha sobrescrito el contenido del archivo y se ha añadido una nueva línea correctamente.\")\n",
    "except FileNotFoundError:\n",
    "    print(\"El archivo '{}' no existe.\".format(nombre_archivo))\n",
    "except Exception as e:\n",
    "    print(\"Se produjo un error:\", e)\n"
   ]
  },
  {
   "cell_type": "markdown",
   "metadata": {},
   "source": [
    "**5) En este ejercicio deberás crear un programa que lea los datos de un fichero de texto, que transforme cada fila en un diccionario y lo añada a una lista llamada personas. Luego recorre las personas de la lista y para cada una muestra de forma amigable todos sus campos. Por ejemplo así:**\n",
    "\n",
    "```\n",
    "(id=1) Carlos Pérez => 05/01/1989 \n",
    "```\n",
    "\n",
    "El fichero de texto se denominará **personas.txt** y tendrá el siguiente contenido en texto plano (créalo previamente):\n",
    "\n",
    "```\n",
    "1;Carlos;Pérez;05/01/1989\n",
    "2;Manuel;Heredia;26/12/1973\n",
    "3;Rosa;Campos;12/06/1961\n",
    "4;David;García;25/07/2006\n",
    "```\n",
    "\n",
    "Los campos del diccionario serán por orden: **id**, **nombre**, **apellido** y **nacimiento**.\n",
    "\n",
    "**Aviso importante**: *Si quieres leer un fichero que no se ha escrito directamente con Python, entonces es posible que encuentres errores de codificación al mostrar algunos caracteres. Asegúrate de indicar la codificación del fichero manualmente durante la apertura como argumento en el **open**, por ejemplo con UTF-8:*\n",
    "\n",
    "```python\n",
    "open(..., encoding=\"utf8\")\n",
    "```\n",
    "\n",
    "Pista: Es posible que tengas que recurrir a funciones como replace o split para poder modificar el texto de una línea de texto. Busca documentación sobre ello."
   ]
  },
  {
   "cell_type": "code",
   "execution_count": 7,
   "metadata": {},
   "outputs": [
    {
     "name": "stdout",
     "output_type": "stream",
     "text": [
      "(id=1) Carlos Pérez => 05/01/1989\n",
      "(id=2) Manuel Heredia => 26/12/1973\n",
      "(id=3) Rosa Campos => 12/06/1961\n",
      "(id=4) David García => 25/07/2006\n"
     ]
    }
   ],
   "source": [
    "# Nombre del archivo\n",
    "nombre_archivo = \"personas.txt\"\n",
    "\n",
    "# Lista para almacenar los diccionarios de personas\n",
    "personas = []\n",
    "\n",
    "try:\n",
    "    # Abre el archivo en modo lectura\n",
    "    with open(nombre_archivo, mode='r', encoding=\"utf8\") as archivo:\n",
    "        # Lee cada línea del archivo\n",
    "        for linea in archivo:\n",
    "            # Elimina los espacios en blanco y divide la línea en sus componentes\n",
    "            datos_persona = linea.strip().split(';')\n",
    "            # Crea un diccionario con los datos de la persona\n",
    "            persona = {\n",
    "                'id': datos_persona[0],\n",
    "                'nombre': datos_persona[1],\n",
    "                'apellido': datos_persona[2],\n",
    "                'nacimiento': datos_persona[3]\n",
    "            }\n",
    "            # Agrega el diccionario de persona a la lista de personas\n",
    "            personas.append(persona)\n",
    "\n",
    "    # Muestra la información de las personas de forma amigable\n",
    "    for persona in personas:\n",
    "        print(\"(id={}) {} {} => {}\".format(persona['id'], persona['nombre'], persona['apellido'], persona['nacimiento']))\n",
    "        \n",
    "except FileNotFoundError:\n",
    "    print(\"El archivo '{}' no existe.\".format(nombre_archivo))\n",
    "except Exception as e:\n",
    "    print(\"Se produjo un error:\", e)\n"
   ]
  }
 ],
 "metadata": {
  "anaconda-cloud": {},
  "kernelspec": {
   "display_name": "Python 3",
   "language": "python",
   "name": "python3"
  },
  "language_info": {
   "codemirror_mode": {
    "name": "ipython",
    "version": 3
   },
   "file_extension": ".py",
   "mimetype": "text/x-python",
   "name": "python",
   "nbconvert_exporter": "python",
   "pygments_lexer": "ipython3",
   "version": "3.12.1"
  }
 },
 "nbformat": 4,
 "nbformat_minor": 1
}
