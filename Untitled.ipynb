{
 "cells": [
  {
   "cell_type": "code",
   "execution_count": 1,
   "id": "fac17637-d219-4acc-bd12-33f60275c504",
   "metadata": {},
   "outputs": [
    {
     "ename": "RecursionError",
     "evalue": "maximum recursion depth exceeded in __instancecheck__",
     "output_type": "error",
     "traceback": [
      "\u001b[0;31m---------------------------------------------------------------------------\u001b[0m",
      "\u001b[0;31mRecursionError\u001b[0m                            Traceback (most recent call last)",
      "Cell \u001b[0;32mIn[1], line 31\u001b[0m\n\u001b[1;32m     29\u001b[0m lista_asignaturas \u001b[38;5;241m=\u001b[39m[a1,a2,a3]\n\u001b[1;32m     30\u001b[0m e1 \u001b[38;5;241m=\u001b[39m Estudiante(\u001b[38;5;241m1\u001b[39m,\u001b[38;5;124m\"\u001b[39m\u001b[38;5;124mCristian\u001b[39m\u001b[38;5;124m\"\u001b[39m,lista_asignaturas)\n\u001b[0;32m---> 31\u001b[0m estudiante_json \u001b[38;5;241m=\u001b[39m json\u001b[38;5;241m.\u001b[39mdumps(e1, indent\u001b[38;5;241m=\u001b[39m \u001b[38;5;241m4\u001b[39m, \u001b[38;5;28mcls\u001b[39m\u001b[38;5;241m=\u001b[39mEstudianteEncoder)\n\u001b[1;32m     33\u001b[0m \u001b[38;5;28mprint\u001b[39m(\u001b[38;5;124m\"\u001b[39m\u001b[38;5;124mJSON de un estudiante con el que vamos a trabajar\u001b[39m\u001b[38;5;124m\"\u001b[39m)\n\u001b[1;32m     34\u001b[0m \u001b[38;5;28mprint\u001b[39m(estudiante_json)\n",
      "File \u001b[0;32m~/anaconda3/lib/python3.11/json/__init__.py:238\u001b[0m, in \u001b[0;36mdumps\u001b[0;34m(obj, skipkeys, ensure_ascii, check_circular, allow_nan, cls, indent, separators, default, sort_keys, **kw)\u001b[0m\n\u001b[1;32m    232\u001b[0m \u001b[38;5;28;01mif\u001b[39;00m \u001b[38;5;28mcls\u001b[39m \u001b[38;5;129;01mis\u001b[39;00m \u001b[38;5;28;01mNone\u001b[39;00m:\n\u001b[1;32m    233\u001b[0m     \u001b[38;5;28mcls\u001b[39m \u001b[38;5;241m=\u001b[39m JSONEncoder\n\u001b[1;32m    234\u001b[0m \u001b[38;5;28;01mreturn\u001b[39;00m \u001b[38;5;28mcls\u001b[39m(\n\u001b[1;32m    235\u001b[0m     skipkeys\u001b[38;5;241m=\u001b[39mskipkeys, ensure_ascii\u001b[38;5;241m=\u001b[39mensure_ascii,\n\u001b[1;32m    236\u001b[0m     check_circular\u001b[38;5;241m=\u001b[39mcheck_circular, allow_nan\u001b[38;5;241m=\u001b[39mallow_nan, indent\u001b[38;5;241m=\u001b[39mindent,\n\u001b[1;32m    237\u001b[0m     separators\u001b[38;5;241m=\u001b[39mseparators, default\u001b[38;5;241m=\u001b[39mdefault, sort_keys\u001b[38;5;241m=\u001b[39msort_keys,\n\u001b[0;32m--> 238\u001b[0m     \u001b[38;5;241m*\u001b[39m\u001b[38;5;241m*\u001b[39mkw)\u001b[38;5;241m.\u001b[39mencode(obj)\n",
      "File \u001b[0;32m~/anaconda3/lib/python3.11/json/encoder.py:202\u001b[0m, in \u001b[0;36mJSONEncoder.encode\u001b[0;34m(self, o)\u001b[0m\n\u001b[1;32m    200\u001b[0m chunks \u001b[38;5;241m=\u001b[39m \u001b[38;5;28mself\u001b[39m\u001b[38;5;241m.\u001b[39miterencode(o, _one_shot\u001b[38;5;241m=\u001b[39m\u001b[38;5;28;01mTrue\u001b[39;00m)\n\u001b[1;32m    201\u001b[0m \u001b[38;5;28;01mif\u001b[39;00m \u001b[38;5;129;01mnot\u001b[39;00m \u001b[38;5;28misinstance\u001b[39m(chunks, (\u001b[38;5;28mlist\u001b[39m, \u001b[38;5;28mtuple\u001b[39m)):\n\u001b[0;32m--> 202\u001b[0m     chunks \u001b[38;5;241m=\u001b[39m \u001b[38;5;28mlist\u001b[39m(chunks)\n\u001b[1;32m    203\u001b[0m \u001b[38;5;28;01mreturn\u001b[39;00m \u001b[38;5;124m'\u001b[39m\u001b[38;5;124m'\u001b[39m\u001b[38;5;241m.\u001b[39mjoin(chunks)\n",
      "File \u001b[0;32m~/anaconda3/lib/python3.11/json/encoder.py:440\u001b[0m, in \u001b[0;36m_make_iterencode.<locals>._iterencode\u001b[0;34m(o, _current_indent_level)\u001b[0m\n\u001b[1;32m    438\u001b[0m     markers[markerid] \u001b[38;5;241m=\u001b[39m o\n\u001b[1;32m    439\u001b[0m o \u001b[38;5;241m=\u001b[39m _default(o)\n\u001b[0;32m--> 440\u001b[0m \u001b[38;5;28;01myield from\u001b[39;00m _iterencode(o, _current_indent_level)\n\u001b[1;32m    441\u001b[0m \u001b[38;5;28;01mif\u001b[39;00m markers \u001b[38;5;129;01mis\u001b[39;00m \u001b[38;5;129;01mnot\u001b[39;00m \u001b[38;5;28;01mNone\u001b[39;00m:\n\u001b[1;32m    442\u001b[0m     \u001b[38;5;28;01mdel\u001b[39;00m markers[markerid]\n",
      "File \u001b[0;32m~/anaconda3/lib/python3.11/json/encoder.py:440\u001b[0m, in \u001b[0;36m_make_iterencode.<locals>._iterencode\u001b[0;34m(o, _current_indent_level)\u001b[0m\n\u001b[1;32m    438\u001b[0m     markers[markerid] \u001b[38;5;241m=\u001b[39m o\n\u001b[1;32m    439\u001b[0m o \u001b[38;5;241m=\u001b[39m _default(o)\n\u001b[0;32m--> 440\u001b[0m \u001b[38;5;28;01myield from\u001b[39;00m _iterencode(o, _current_indent_level)\n\u001b[1;32m    441\u001b[0m \u001b[38;5;28;01mif\u001b[39;00m markers \u001b[38;5;129;01mis\u001b[39;00m \u001b[38;5;129;01mnot\u001b[39;00m \u001b[38;5;28;01mNone\u001b[39;00m:\n\u001b[1;32m    442\u001b[0m     \u001b[38;5;28;01mdel\u001b[39;00m markers[markerid]\n",
      "    \u001b[0;31m[... skipping similar frames: _make_iterencode.<locals>._iterencode at line 440 (2968 times)]\u001b[0m\n",
      "File \u001b[0;32m~/anaconda3/lib/python3.11/json/encoder.py:440\u001b[0m, in \u001b[0;36m_make_iterencode.<locals>._iterencode\u001b[0;34m(o, _current_indent_level)\u001b[0m\n\u001b[1;32m    438\u001b[0m     markers[markerid] \u001b[38;5;241m=\u001b[39m o\n\u001b[1;32m    439\u001b[0m o \u001b[38;5;241m=\u001b[39m _default(o)\n\u001b[0;32m--> 440\u001b[0m \u001b[38;5;28;01myield from\u001b[39;00m _iterencode(o, _current_indent_level)\n\u001b[1;32m    441\u001b[0m \u001b[38;5;28;01mif\u001b[39;00m markers \u001b[38;5;129;01mis\u001b[39;00m \u001b[38;5;129;01mnot\u001b[39;00m \u001b[38;5;28;01mNone\u001b[39;00m:\n\u001b[1;32m    442\u001b[0m     \u001b[38;5;28;01mdel\u001b[39;00m markers[markerid]\n",
      "File \u001b[0;32m~/anaconda3/lib/python3.11/json/encoder.py:429\u001b[0m, in \u001b[0;36m_make_iterencode.<locals>._iterencode\u001b[0;34m(o, _current_indent_level)\u001b[0m\n\u001b[1;32m    426\u001b[0m \u001b[38;5;28;01melif\u001b[39;00m \u001b[38;5;28misinstance\u001b[39m(o, \u001b[38;5;28mfloat\u001b[39m):\n\u001b[1;32m    427\u001b[0m     \u001b[38;5;66;03m# see comment for int/float in _make_iterencode\u001b[39;00m\n\u001b[1;32m    428\u001b[0m     \u001b[38;5;28;01myield\u001b[39;00m _floatstr(o)\n\u001b[0;32m--> 429\u001b[0m \u001b[38;5;28;01melif\u001b[39;00m \u001b[38;5;28misinstance\u001b[39m(o, (\u001b[38;5;28mlist\u001b[39m, \u001b[38;5;28mtuple\u001b[39m)):\n\u001b[1;32m    430\u001b[0m     \u001b[38;5;28;01myield from\u001b[39;00m _iterencode_list(o, _current_indent_level)\n\u001b[1;32m    431\u001b[0m \u001b[38;5;28;01melif\u001b[39;00m \u001b[38;5;28misinstance\u001b[39m(o, \u001b[38;5;28mdict\u001b[39m):\n",
      "\u001b[0;31mRecursionError\u001b[0m: maximum recursion depth exceeded in __instancecheck__"
     ]
    }
   ],
   "source": [
    "import json\n",
    "from collections import namedtuple\n",
    "from json import JSONEncoder\n",
    "\n",
    "class Estudiante():\n",
    " def __init__(self,id_estudiante,nombre,lista_asigaturas):\n",
    "  self.id_estudiante = id_estudiante\n",
    "  self.nombre = nombre\n",
    "  self.lista_asignaturas= lista_asigaturas\n",
    "\n",
    "\n",
    "class Asignatura:\n",
    "    def __init__(self,nombre,dificultad):\n",
    "      self.nombre = nombre\n",
    "      self.dificultad = dificultad\n",
    "        \n",
    "class EstudianteEncoder(JSONEncoder):\n",
    "  def default(self, o):\n",
    "    return o.__init__  # toma un objeto y lo muestra en formato diccionario\n",
    "\n",
    "def decoficadorEstudiantes(estudianteDict):\n",
    "  return namedtuple('Estudiante',estudianteDict.keys())(*estudianteDict.values())\n",
    "\n",
    "# Vamos a preparar el JSON con el que trabajemos\n",
    "a1 = Asignatura(\"Introduccion a la programacion\",\"Basica\")\n",
    "a2 = Asignatura(\"Programacion en Python\", \"Intermedia\")\n",
    "a3 = Asignatura(\"Inteligencia Artificial\",\"Avanzada\")\n",
    "\n",
    "lista_asignaturas =[a1,a2,a3]\n",
    "e1 = Estudiante(1,\"Cristian\",lista_asignaturas)\n",
    "estudiante_json = json.dumps(e1, indent= 4, cls=EstudianteEncoder)\n",
    "\n",
    "print(\"JSON de un estudiante con el que vamos a trabajar\")\n",
    "print(estudiante_json)\n",
    "\n",
    "estudiante = json.loads(estudiante_json, object_hook= decoficadorEstudiantes)\n",
    "\n",
    "print(\"\\nConvertimos el JSON anterior a un objeto de la clase\",type(estudiante).__name__)\n",
    "print(\" > ID de estudiante: \",estudiante.id_estudiante)\n",
    "print(\" > Nombre:\",estudiante.nombre)\n",
    "print(\" > Lista de asignaturas: \")\n",
    "for i in estudiante.lista_asignaturas:\n",
    "  print(\"\\t\",i)\n",
    "print(\"=========\")\n",
    "print(type(estudiante))"
   ]
  },
  {
   "cell_type": "code",
   "execution_count": null,
   "id": "695de2f0-0e0f-48bb-b659-e0d10443e44a",
   "metadata": {},
   "outputs": [],
   "source": []
  }
 ],
 "metadata": {
  "kernelspec": {
   "display_name": "Python 3 (ipykernel)",
   "language": "python",
   "name": "python3"
  },
  "language_info": {
   "codemirror_mode": {
    "name": "ipython",
    "version": 3
   },
   "file_extension": ".py",
   "mimetype": "text/x-python",
   "name": "python",
   "nbconvert_exporter": "python",
   "pygments_lexer": "ipython3",
   "version": "3.11.5"
  }
 },
 "nbformat": 4,
 "nbformat_minor": 5
}
