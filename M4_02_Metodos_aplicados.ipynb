{
 "cells": [
  {
   "cell_type": "markdown",
   "metadata": {},
   "source": [
    "# Ejercicios Modulo 2. Unidad 2. Métodos aplicados (Soluciones)\n",
    "\n",
    "Consideraciones a tener en cuenta: \n",
    "\n",
    "* Guardar este documento con el siguiente formato para su entrega: __M4_02_nombre_apellido1_apellido2__\n",
    "* Realizar los ejercicios con las herramientas vistas en las sesiones. \n",
    "* Comentar el código\n",
    "* Utilizar nombres de variables apropiados, si vais a guardar una nota, llamar a esa variable nota, no n o x"
   ]
  },
  {
   "cell_type": "markdown",
   "metadata": {},
   "source": [
    "**1) Solicita por teclado un texto al usuario y decir si:**\n",
    "* El texto es una cadena de texto\n",
    "* El texto es una cadena de dígitos\n",
    "* El texto incluye caracteres y números"
   ]
  },
  {
   "cell_type": "code",
   "execution_count": null,
   "metadata": {},
   "outputs": [],
   "source": [
    "# Solicitar al usuario que ingrese un texto\n",
    "texto = input(\"Ingrese un texto: \")\n",
    "\n",
    "# Verificar si el texto es una cadena de texto\n",
    "if texto.isalpha():\n",
    "    print(\"El texto es una cadena de texto.\")\n",
    "\n",
    "# Verificar si el texto es una cadena de dígitos\n",
    "elif texto.isdigit():\n",
    "    print(\"El texto es una cadena de dígitos.\")\n",
    "\n",
    "# Verificar si el texto incluye caracteres y números\n",
    "elif any(c.isalpha() for c in texto) and any(c.isdigit() for c in texto):\n",
    "    print(\"El texto incluye caracteres y números.\")\n",
    "\n",
    "# Si ninguna de las condiciones anteriores se cumple, imprimir un mensaje predeterminado\n",
    "else:\n",
    "    print(\"El texto no se ajusta a ninguna categoría específica.\")\n",
    "\n",
    "        "
   ]
  },
  {
   "cell_type": "markdown",
   "metadata": {},
   "source": [
    "**2) Solicita al usuario un texto y una palabra a buscar dentro del texto. Si la localiza, extraer desde esa posición hasta el final de la frase y almacenarlo en otra variable.** \n",
    "* Ejemplo de texto: Hola mundo que tal \n",
    "* Buscamos: mundo \n",
    "* Resultado: mundo que tal"
   ]
  },
  {
   "cell_type": "code",
   "execution_count": null,
   "metadata": {},
   "outputs": [],
   "source": [
    "# Solicitar al usuario que ingrese un texto\n",
    "texto = input(\"Ingrese un texto: \")\n",
    "\n",
    "# Solicitar al usuario que ingrese la palabra a buscar\n",
    "palabra_buscada = input(\"Ingrese la palabra a buscar: \")\n",
    "\n",
    "# Buscar la posición de la palabra dentro del texto\n",
    "posicion = texto.find(palabra_buscada)\n",
    "\n",
    "# Verificar si la palabra fue encontrada\n",
    "if posicion != -1:\n",
    "    # Extraer la parte del texto desde la posición de la palabra hasta el final\n",
    "    resultado = texto[posicion:]\n",
    "    print(\"Resultado:\", resultado)\n",
    "else:\n",
    "    print(\"La palabra no se encontró en el texto.\")\n"
   ]
  },
  {
   "cell_type": "markdown",
   "metadata": {},
   "source": [
    "**3) Partiendo de una frase con diferentes palabras separadas por espacios, crear una lista donde cada elemento sea cada palabra del texto. Mostrar dicha lista y mostrar el número de veces que se encuentra la palabra mundo en esa lista**"
   ]
  },
  {
   "cell_type": "code",
   "execution_count": null,
   "metadata": {},
   "outputs": [],
   "source": [
    "# Solicitar al usuario que ingrese una frase\n",
    "frase = input(\"Ingrese una frase: \")\n",
    "\n",
    "# Dividir la frase en palabras utilizando el espacio como separador\n",
    "palabras = frase.split()\n",
    "\n",
    "# Mostrar la lista de palabras\n",
    "print(\"Lista de palabras:\", palabras)\n",
    "\n",
    "# Contar cuántas veces aparece la palabra \"mundo\" en la lista\n",
    "conteo_mundo = palabras.count(\"mundo\")\n",
    "\n",
    "# Mostrar el número de veces que aparece la palabra \"mundo\"\n",
    "print(\"Número de veces que aparece 'mundo':\", conteo_mundo)\n",
    "\n"
   ]
  }
 ],
 "metadata": {
  "anaconda-cloud": {},
  "kernelspec": {
   "display_name": "Python 3",
   "language": "python",
   "name": "python3"
  },
  "language_info": {
   "codemirror_mode": {
    "name": "ipython",
    "version": 3
   },
   "file_extension": ".py",
   "mimetype": "text/x-python",
   "name": "python",
   "nbconvert_exporter": "python",
   "pygments_lexer": "ipython3",
   "version": "3.7.6"
  }
 },
 "nbformat": 4,
 "nbformat_minor": 1
}
